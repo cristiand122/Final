{
 "cells": [
  {
   "cell_type": "code",
   "execution_count": 1,
   "metadata": {},
   "outputs": [],
   "source": [
    "import numpy as np"
   ]
  },
  {
   "cell_type": "code",
   "execution_count": 2,
   "metadata": {},
   "outputs": [],
   "source": [
    "import matplotlib.pyplot as plt"
   ]
  },
  {
   "cell_type": "code",
   "execution_count": null,
   "metadata": {},
   "outputs": [],
   "source": [
    "x1=2.0\n",
    "y1=3.0\n",
    "x2=10.0\n",
    "y2=1.0\n",
    "x3=4.0\n",
    "y3=12.0\n",
    "x=5.0\n",
    "y=5.0\n",
    "plt.scatter(x1,y1,s=1,c='black')\n",
    "plt.scatter(x2,y2,s=1,c='black')\n",
    "plt.scatter(x3,y3,s=1,c='black')\n",
    "\n",
    "for point in range(10000):\n",
    "    rpoint=np.random.randint(1,4)\n",
    "    if rpoint==1:\n",
    "        x= (x+x1)/2\n",
    "        y= (y+y1)/2\n",
    "    elif rpoint==2:\n",
    "        x= (x+x2)/2\n",
    "        y= (y+y2)/2\n",
    "    elif rpoint==3:\n",
    "        x= (x+x3)/2\n",
    "        y= (y+y3)/2\n",
    "    plt.scatter(x,y,s=1,c='black')\n",
    "    \n",
    "plt.show()"
   ]
  },
  {
   "cell_type": "code",
   "execution_count": null,
   "metadata": {},
   "outputs": [],
   "source": []
  }
 ],
 "metadata": {
  "kernelspec": {
   "display_name": "Python 3",
   "language": "python",
   "name": "python3"
  },
  "language_info": {
   "codemirror_mode": {
    "name": "ipython",
    "version": 3
   },
   "file_extension": ".py",
   "mimetype": "text/x-python",
   "name": "python",
   "nbconvert_exporter": "python",
   "pygments_lexer": "ipython3",
   "version": "3.7.1"
  }
 },
 "nbformat": 4,
 "nbformat_minor": 2
}
