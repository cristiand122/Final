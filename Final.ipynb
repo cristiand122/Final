{
 "cells": [
  {
   "cell_type": "code",
   "execution_count": 1,
   "metadata": {},
   "outputs": [
    {
     "name": "stdout",
     "output_type": "stream",
     "text": [
      "John\n",
      "100\n",
      "1000.0\n"
     ]
    }
   ],
   "source": [
    "# Variables and comments\"\n",
    "name = \"John\"  \n",
    "step_counter = 100\n",
    "miles   = 1000.0\n",
    "\n",
    "print (name)\n",
    "print (step_counter)\n",
    "print (miles)\n",
    "\n",
    "#here all things that are being printed out are variables so the name \n",
    "#cristian the 100 steps and the 1000.0 miles are all varialbles."
   ]
  },
  {
   "cell_type": "code",
   "execution_count": 2,
   "metadata": {},
   "outputs": [
    {
     "name": "stdout",
     "output_type": "stream",
     "text": [
      "['Kobe Bryant', 'Magic Johnson', 'Shaquille Oneal', 'Lonzo Ball', 'Kareem Abdul', 'lebron James', 'Dwight Howard']\n",
      "['Kobe Bryant', 'Magic Johnson', 'Shaquille Oneal', 'Kareem Abdul', 'lebron James', 'Dwight Howard']\n",
      "['Kobe Bryant', 'Magic Johnson', 'Shaquille Oneal', 'Kareem Abdul', 'lebron James', 'Dwight Howard', 'Lonzo Ball']\n",
      "['Anthony Davis', 'Nikola Jokic']\n",
      "['Giannis Antetokounmpo', 'Anthony Davis', 'Nikola Jokic', 'Blake Griffin']\n",
      "['Blake Griffin', 'Donovan Mitchell', 'Mike Conley']\n",
      "['Giannis Antetokounmpo', 'Anthony Davis', 'Nikola Jokic', 'Blake Griffin', 'Donovan Mitchell', 'Mike Conley']\n",
      "['Blake Griffin', 'Donovan Mitchell']\n"
     ]
    }
   ],
   "source": [
    "#Data structures - Lists\n",
    "my_list = ['Kobe Bryant','Magic Johnson','Shaquille Oneal','Lonzo Ball','Kareem Abdul','lebron James','Dwight Howard']\n",
    "print(my_list)\n",
    "#now i will remove a variable\n",
    "my_list.remove('Lonzo Ball')\n",
    "print(my_list)\n",
    "#Input:['Kobe Bryant','Magic Johnson','Shaquille Oneal','Lonzo Ball','Kareem Abdul','lebron James','Dwight Howard']\n",
    "#Output:['Kobe Bryant','Magic Johnson','Shaquille Oneal','Kareem Abdul','lebron James','Dwight Howard']\n",
    "# inserting player to list at 7th position\n",
    "my_list.insert(6, 'Lonzo Ball' )\n",
    "print(my_list)\n",
    "#Input:['Kobe Bryant', 'Magic Johnson', 'Shaquille Oneal', 'Kareem Abdul', 'lebron James', 'Dwight Howard']\n",
    "#Output:['Kobe Bryant', 'Magic Johnson', 'Shaquille Oneal', 'Kareem Abdul', 'lebron James', 'Dwight Howard', 'Lonzo Ball']\n",
    "# starting at 1, Giannis Antetokounmpo, it will print out to the 3rd element, Nikola Jokic.\n",
    "\n",
    "#Now we will move on to printing out certain elements and variables\n",
    "The_list = ['Giannis Antetokounmpo', 'Anthony Davis', 'Nikola Jokic', 'Blake Griffin', 'Donovan Mitchell', 'Mike Conley']\n",
    "print(The_list[1:3])\n",
    "#starting at 1, Giannis Antetokounmpo, it will print out to the 4th element, Blake Griffin.\n",
    "The_list = ['Giannis Antetokounmpo', 'Anthony Davis', 'Nikola Jokic', 'Blake Griffin', 'Donovan Mitchell', 'Mike Conley']\n",
    "print(The_list[:4])\n",
    "#starting at 3rd element, Blake Griffin, it will print out to the last element, Mike Conley.\n",
    "The_list = ['Giannis Antetokounmpo', 'Anthony Davis', 'Nikola Jokic', 'Blake Griffin', 'Donovan Mitchell', 'Mike Conley']\n",
    "print(The_list[3:])\n",
    "#starting at 0, Giannis Antetokounmpo, it will print out to the last element, Mike Conley.\n",
    "The_list = ['Giannis Antetokounmpo', 'Anthony Davis', 'Nikola Jokic', 'Blake Griffin', 'Donovan Mitchell', 'Mike Conley']\n",
    "print(The_list[:])\n",
    "#starting at -3, Blake Griffin, it will print out to the -1 element, Donovan Mitchell.\n",
    "The_list = ['Giannis Antetokounmpo', 'Anthony Davis', 'Nikola Jokic', 'Blake Griffin', 'Donovan Mitchell', 'Mike Conley']\n",
    "print(The_list[-3:-1])"
   ]
  },
  {
   "cell_type": "code",
   "execution_count": 3,
   "metadata": {},
   "outputs": [
    {
     "name": "stdout",
     "output_type": "stream",
     "text": [
      "[1, 4, 9, 16, 25, 36, 49, 64, 81, 100, 121, 144, 169, 196, 225, 256, 289, 324, 361, 400, 441, 484, 529, 576, 625, 676, 729, 784, 841, 900, 961, 1024, 1089, 1156, 1225, 1296, 1369, 1444, 1521, 1600, 1681, 1764, 1849, 1936, 2025, 2116, 2209, 2304, 2401, 2500, 2601, 2704, 2809, 2916, 3025, 3136, 3249, 3364, 3481, 3600, 3721, 3844, 3969, 4096, 4225, 4356, 4489, 4624, 4761, 4900, 5041, 5184, 5329, 5476, 5625, 5776, 5929, 6084, 6241, 6400, 6561, 6724, 6889, 7056, 7225, 7396, 7569, 7744, 7921, 8100, 8281, 8464, 8649, 8836, 9025, 9216, 9409, 9604, 9801, 10000]\n",
      "338350\n",
      "9\n"
     ]
    },
    {
     "data": {
      "text/plain": [
       "[1, 3, 5, 7, 9, 11, 13, 15, 17, 19]"
      ]
     },
     "execution_count": 3,
     "metadata": {},
     "output_type": "execute_result"
    }
   ],
   "source": [
    "#Data structures - Dictionaries\n",
    "squares2 = [i**2 for i in range(1,101)]\n",
    "squares2.sort()\n",
    "print (squares2)\n",
    "print(sum(squares2))\n",
    "\n",
    "odd2 = []\n",
    "for n in range(10):\n",
    "    odd2.append(2*n+1)\n",
    "\n",
    "print(odd2[4])\n",
    "\n",
    "odd = [2*n+1 for n in range(10)]\n",
    "odd\n"
   ]
  },
  {
   "cell_type": "code",
   "execution_count": 4,
   "metadata": {},
   "outputs": [
    {
     "name": "stdout",
     "output_type": "stream",
     "text": [
      "Current Letter : P\n",
      "Current Letter : y\n",
      "Current Letter : t\n",
      "Current Letter : h\n",
      "Current Letter : o\n",
      "Current Letter : n\n"
     ]
    }
   ],
   "source": [
    "for letter in 'Python':     # First Example\n",
    "   print ('Current Letter :', letter)\n"
   ]
  },
  {
   "cell_type": "code",
   "execution_count": null,
   "metadata": {},
   "outputs": [
    {
     "name": "stdout",
     "output_type": "stream",
     "text": [
      "What is the password?\n"
     ]
    }
   ],
   "source": [
    "password = ''\n",
    "\n",
    "while password != 'password':\n",
    "    print('What is the password?')\n",
    "    password = input()\n",
    "\n",
    "print('Yes, the password is ' + password + '. You may enter.')"
   ]
  },
  {
   "cell_type": "code",
   "execution_count": null,
   "metadata": {},
   "outputs": [],
   "source": []
  }
 ],
 "metadata": {
  "kernelspec": {
   "display_name": "Python 3",
   "language": "python",
   "name": "python3"
  },
  "language_info": {
   "codemirror_mode": {
    "name": "ipython",
    "version": 3
   },
   "file_extension": ".py",
   "mimetype": "text/x-python",
   "name": "python",
   "nbconvert_exporter": "python",
   "pygments_lexer": "ipython3",
   "version": "3.7.1"
  }
 },
 "nbformat": 4,
 "nbformat_minor": 2
}
