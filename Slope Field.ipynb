{
 "cells": [
  {
   "cell_type": "code",
   "execution_count": 3,
   "metadata": {},
   "outputs": [],
   "source": [
    "from tkinter import *\n",
    "import time\n",
    "#---------gui setup-------------------------------\n",
    "gui = Tk()\n",
    "gui.geometry(\"600x600\")\n",
    "c = Canvas(gui,width = 600, height = 600) #, background = 'black')\n",
    "c.pack()\n",
    "#-------------------------------------------------\n",
    "\n",
    "def dy_dx(x,y):\n",
    "    value = y/x\n",
    "    return value \n",
    "\n",
    "def short_line(x,y,m):\n",
    "    delta_x = 5\n",
    "    m_x = 1*delta_x\n",
    "    m_y = 1*m\n",
    "    ret_x1 = x-m_x\n",
    "    ret_y1 = y-m_y\n",
    "    ret_x2 = x+m_x\n",
    "    \n",
    "def short_line(x,y,m):\n",
    "    return x,y,x+15,y+15\n",
    "\n",
    "\n",
    "line1 = c.create_line(0,0,20,10)\n",
    "for h in range(10):\n",
    "    for v in range(10):\n",
    "        c.move(line1,h,v)\n",
    "        time.sleep(.01)\n",
    "        gui.update()\n",
    "        \n",
    "\n",
    "#line1 = c.create_line(5,600-10,50,600-100)\n",
    "\n",
    "gui.title(\"Slope Field\")\n",
    "gui.mainloop()"
   ]
  },
  {
   "cell_type": "code",
   "execution_count": null,
   "metadata": {},
   "outputs": [],
   "source": []
  }
 ],
 "metadata": {
  "kernelspec": {
   "display_name": "Python 3",
   "language": "python",
   "name": "python3"
  },
  "language_info": {
   "codemirror_mode": {
    "name": "ipython",
    "version": 3
   },
   "file_extension": ".py",
   "mimetype": "text/x-python",
   "name": "python",
   "nbconvert_exporter": "python",
   "pygments_lexer": "ipython3",
   "version": "3.7.1"
  }
 },
 "nbformat": 4,
 "nbformat_minor": 2
}
