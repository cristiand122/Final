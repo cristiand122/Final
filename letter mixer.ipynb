{
 "cells": [
  {
   "cell_type": "code",
   "execution_count": 17,
   "metadata": {},
   "outputs": [
    {
     "name": "stdout",
     "output_type": "stream",
     "text": [
      "Enter your text: longword\n",
      "in random list\n",
      "longwor\n"
     ]
    }
   ],
   "source": [
    "import random\n",
    "import string\n",
    "\n",
    "original_text = input(\"Enter your text: \").split(' ')\n",
    "\n",
    "randomized_list = []\n",
    "\n",
    "def scramble_word(word):\n",
    "    alpha = word[0]\n",
    "    if word[-1] == \",\" or \".\" or \"!\" or \"?\" or \":\" or \";\"or\" \":\n",
    "        omega = word[-2] \n",
    "        middle = word[1:-2]\n",
    "        new_words = word[:-1]\n",
    "    else:\n",
    "        print(\"here in scramble\")\n",
    "        omega = word[-1]\n",
    "        print(omega)\n",
    "        middle = word[1:-1]\n",
    "        print(middle)\n",
    "        reorders_text = random.sample(middle, len(middle))\n",
    "        print(reorders_text)\n",
    "        shuffled_text = \"\".join(reorders_text)\n",
    "        print(shuffled_text)\n",
    "        new_words = alpha + shuffled_text + omega\n",
    "    return new_words\n",
    "for item in original_text:\n",
    "    if len(item) <= 3:\n",
    "        randomized_list.append(item)\n",
    "    else:\n",
    "        print('in random list')\n",
    "        randomized_list.append(scramble_word(item))\n",
    "new_words = \" \".join(randomized_list)\n",
    "print(new_words)"
   ]
  },
  {
   "cell_type": "code",
   "execution_count": null,
   "metadata": {},
   "outputs": [],
   "source": []
  }
 ],
 "metadata": {
  "kernelspec": {
   "display_name": "Python 3",
   "language": "python",
   "name": "python3"
  },
  "language_info": {
   "codemirror_mode": {
    "name": "ipython",
    "version": 3
   },
   "file_extension": ".py",
   "mimetype": "text/x-python",
   "name": "python",
   "nbconvert_exporter": "python",
   "pygments_lexer": "ipython3",
   "version": "3.7.1"
  }
 },
 "nbformat": 4,
 "nbformat_minor": 2
}
