{
 "cells": [
  {
   "cell_type": "code",
   "execution_count": 7,
   "metadata": {},
   "outputs": [
    {
     "name": "stdout",
     "output_type": "stream",
     "text": [
      "Fred Savage 1000.0\n",
      "Joe Dirt 300.0\n",
      "Ima Student 200.0\n",
      "Fred Savage 1300.0\n"
     ]
    }
   ],
   "source": [
    "# Bank Customer Object\n",
    "\n",
    "class Customer(object):\n",
    "    \"\"\" customer object has priorities and methods\n",
    "        customer name *name* and account balance as *balance* \n",
    "        \n",
    "        methods:\n",
    "            withdrawal\n",
    "            deposit\n",
    "            \"\"\"\n",
    "    \n",
    "    def __init__(self, name, balance=0.0):\n",
    "        \"\"\" Return a customer object whose name is *name* and starting\n",
    "        balance is *balance*.\"\"\"\n",
    "        self.name = name\n",
    "        self.balance = balance\n",
    "        \n",
    "    def withdrawal(self,amount):\n",
    "        if amount > self.balance:\n",
    "            raise RuntimeError(\"amount is greater than available balance\")\n",
    "        else:\n",
    "            self.balance -= amount\n",
    "            \n",
    "        return self.balance\n",
    "            \n",
    "    \n",
    "    def deposit(self,amount):\n",
    "        self.balance += amount\n",
    "        return self.balance\n",
    "    \n",
    "custlist = []\n",
    "cust = Customer(\"Fred Savage\",1000.0)\n",
    "custlist.append(cust)\n",
    "cust = Customer(\"Joe Dirt\",300.0)\n",
    "custlist.append(cust)\n",
    "cust = Customer(\"Ima Student\",200.0)\n",
    "custlist.append(cust)\n",
    "for cust in custlist:\n",
    "    print(cust.name, cust.balance)\n",
    "    \n",
    "custlist[0].deposit(300.0)\n",
    "print(custlist[0].name,custlist[0].balance)"
   ]
  },
  {
   "cell_type": "code",
   "execution_count": 8,
   "metadata": {},
   "outputs": [
    {
     "name": "stdout",
     "output_type": "stream",
     "text": [
      "Joe Dirt 100.0\n"
     ]
    }
   ],
   "source": [
    "custlist[1].withdrawal(200)\n",
    "print(custlist[1].name, custlist[1].balance)"
   ]
  },
  {
   "cell_type": "code",
   "execution_count": null,
   "metadata": {},
   "outputs": [],
   "source": []
  }
 ],
 "metadata": {
  "kernelspec": {
   "display_name": "Python 3",
   "language": "python",
   "name": "python3"
  },
  "language_info": {
   "codemirror_mode": {
    "name": "ipython",
    "version": 3
   },
   "file_extension": ".py",
   "mimetype": "text/x-python",
   "name": "python",
   "nbconvert_exporter": "python",
   "pygments_lexer": "ipython3",
   "version": "3.7.1"
  }
 },
 "nbformat": 4,
 "nbformat_minor": 2
}
