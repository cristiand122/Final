{
 "cells": [
  {
   "cell_type": "code",
   "execution_count": 1,
   "metadata": {},
   "outputs": [
    {
     "name": "stdout",
     "output_type": "stream",
     "text": [
      "Requirement already satisfied: tinydb in c:\\users\\cristiand\\appdata\\local\\continuum\\anaconda3\\lib\\site-packages (3.12.2)\n"
     ]
    }
   ],
   "source": [
    "!pip install tinydb"
   ]
  },
  {
   "cell_type": "code",
   "execution_count": 8,
   "metadata": {},
   "outputs": [
    {
     "data": {
      "text/plain": [
       "[{'time': '0',\n",
       "  'herd_size': '26000',\n",
       "  'adult_males': '10400',\n",
       "  'adult females': '9100',\n",
       "  'male calves': '3380',\n",
       "  'female calves': 3120}]"
      ]
     },
     "execution_count": 8,
     "metadata": {},
     "output_type": "execute_result"
    }
   ],
   "source": [
    "from tinydb import TinyDB,Query\n",
    "herd = TinyDB('buffaloerd.json')\n",
    "buffalo = Query()\n",
    "new_male_calves = (ml)\n",
    "new_female_calves = (fl)\n",
    "one_year_old_male_calves = (m2)\n",
    "one_year_old_female_calves = (f2)\n",
    "adult_males = (m)\n",
    "adult_females = (f)\n",
    "herd_total = (ht)\n",
    "\n",
    "(ht) = 26000\n"
   ]
  },
  {
   "cell_type": "code",
   "execution_count": null,
   "metadata": {},
   "outputs": [],
   "source": []
  }
 ],
 "metadata": {
  "kernelspec": {
   "display_name": "Python 3",
   "language": "python",
   "name": "python3"
  },
  "language_info": {
   "codemirror_mode": {
    "name": "ipython",
    "version": 3
   },
   "file_extension": ".py",
   "mimetype": "text/x-python",
   "name": "python",
   "nbconvert_exporter": "python",
   "pygments_lexer": "ipython3",
   "version": "3.7.1"
  }
 },
 "nbformat": 4,
 "nbformat_minor": 2
}
