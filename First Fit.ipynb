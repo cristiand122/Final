{
 "cells": [
  {
   "cell_type": "code",
   "execution_count": 13,
   "metadata": {},
   "outputs": [
    {
     "name": "stdout",
     "output_type": "stream",
     "text": [
      "board_num piece_to_cut stock_board waste_pieces\n"
     ]
    }
   ],
   "source": [
    "stock_size=8  # stock lumber length\n",
    "cut_list=[6,6,5,5,5,2,2,2,2,3,3,3]  #list of pieces to cut\n",
    "waste_pieces_list=[]\n",
    "length_left = stock_size\n",
    "stock_board = 0\n",
    "total_cut_list = 0\n",
    "print(\"board_num piece_to_cut stock_board waste_pieces\")\n",
    "for board_num,piece_to_cut in enumerate(cut_list,start=1):\n",
    "    # accumulate the total length of boards that are used\n",
    "    total_cut_list = total_cut_list + piece_to_cut\n",
    "    cut_from_waste = False\n",
    "    for waste_pieces,piece_to_cut in enumerate(waste_pieces_list,start=1):\n",
    "        if waste_pieces >= piece_to_cut:\n",
    "            #cut from a leftover piece and change the length of the leftover piece\n",
    "            waste_pieces_list[waste_num] = waste_pieces-piece_to_cut\n",
    "            cut_from_waste = True\n",
    "    if not cut_from_waste:\n",
    "        #get a new board to cut from\n",
    "        stock_board +=1\n",
    "        waste_pieces_list.append(stock_size-piece_to_cut)\n",
    "        "
   ]
  },
  {
   "cell_type": "code",
   "execution_count": null,
   "metadata": {},
   "outputs": [],
   "source": []
  }
 ],
 "metadata": {
  "kernelspec": {
   "display_name": "Python 3",
   "language": "python",
   "name": "python3"
  },
  "language_info": {
   "codemirror_mode": {
    "name": "ipython",
    "version": 3
   },
   "file_extension": ".py",
   "mimetype": "text/x-python",
   "name": "python",
   "nbconvert_exporter": "python",
   "pygments_lexer": "ipython3",
   "version": "3.7.1"
  }
 },
 "nbformat": 4,
 "nbformat_minor": 2
}
