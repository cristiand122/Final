{
 "cells": [
  {
   "cell_type": "code",
   "execution_count": null,
   "metadata": {},
   "outputs": [],
   "source": [
    "import turtle\n",
    "import numpy as np\n",
    "bob=turtle.Turtle()\n",
    "wn=turtle.Screen()\n",
    "\n",
    "def koch(t,length):\n",
    "    if length <= 10:\n",
    "        t.fd(length)\n",
    "        return\n",
    "    m=length/3\n",
    "    koch(t,m)\n",
    "    t.lt(60)\n",
    "    koch(t,m)\n",
    "    t.rt(120)\n",
    "    koch(t,m)\n",
    "    t.lt(60)\n",
    "    koch(t,m)\n",
    "\n",
    "def dragon(t,length):\n",
    "    if length <=10:\n",
    "        t.fd(length)\n",
    "        return\n",
    "    m=length/np.sqrt(2)\n",
    "    t.lt(45)\n",
    "    dragon(t,m)\n",
    "    t.rt(90)\n",
    "    dragon(t,m)\n",
    "    t.lt(45)\n",
    "\n",
    "#dragon(bob,80)\n",
    "\n",
    "koch(bob,100)\n",
    "bob.rt(120)\n",
    "koch(bob,100)\n",
    "bob.rt(120)\n",
    "koch(bob,100)\n",
    "\n",
    "\n",
    "wn.exitonclick()\n",
    "turtle.mainloop()"
   ]
  },
  {
   "cell_type": "code",
   "execution_count": null,
   "metadata": {},
   "outputs": [],
   "source": []
  }
 ],
 "metadata": {
  "kernelspec": {
   "display_name": "Python 3",
   "language": "python",
   "name": "python3"
  },
  "language_info": {
   "codemirror_mode": {
    "name": "ipython",
    "version": 3
   },
   "file_extension": ".py",
   "mimetype": "text/x-python",
   "name": "python",
   "nbconvert_exporter": "python",
   "pygments_lexer": "ipython3",
   "version": "3.7.1"
  }
 },
 "nbformat": 4,
 "nbformat_minor": 2
}
