{
 "cells": [
  {
   "cell_type": "code",
   "execution_count": null,
   "metadata": {},
   "outputs": [],
   "source": [
    "from tkinter import *\n",
    "from random import *\n",
    "\n",
    "def do_event(event):\n",
    "    print(\"{},{}\".format(event.x,event.y))\n",
    "\n",
    "def jump(event):\n",
    "    app.hello_b.place(relx=random(),rely=random())\n",
    "\n",
    "class App:\n",
    "    def __init__(self,master):\n",
    "        frame = Frame(master)\n",
    "        master.geometry(\"160x160\")\n",
    "        master.title(\"My first program!\")\n",
    "        master.bind(\"<Button-1>\",do_event)\n",
    "        master.bind(\"<Button-1>\",do_event)\n",
    "        frame.pack()\n",
    "\n",
    "        self.hello_b = Button(master,text=\"Quit\",command=sys.exit)\n",
    "        self.hello_b.bind(\"<Enter>\",jump)\n",
    "        self.hello_b.pack()\n",
    "\n",
    "\n",
    "\n",
    "\n",
    "root = Tk()\n",
    "\n",
    "app = App(root)\n",
    "\n",
    "root.mainloop()"
   ]
  }
 ],
 "metadata": {
  "kernelspec": {
   "display_name": "Python 3",
   "language": "python",
   "name": "python3"
  },
  "language_info": {
   "codemirror_mode": {
    "name": "ipython",
    "version": 3
   },
   "file_extension": ".py",
   "mimetype": "text/x-python",
   "name": "python",
   "nbconvert_exporter": "python",
   "pygments_lexer": "ipython3",
   "version": "3.7.1"
  }
 },
 "nbformat": 4,
 "nbformat_minor": 2
}
