{
 "cells": [
  {
   "cell_type": "code",
   "execution_count": 15,
   "metadata": {},
   "outputs": [
    {
     "name": "stdout",
     "output_type": "stream",
     "text": [
      "How many fingers do you see?\n",
      "5\n",
      "2\n"
     ]
    }
   ],
   "source": [
    "# tom fell and john asked him\n",
    "john = \"How many fingers do you see?\"\n",
    "tom = 5 \n",
    "fingers_held_up = 2\n",
    "\n",
    "print(message)\n",
    "print(tom)\n",
    "print(fingers_held_up)\n"
   ]
  },
  {
   "cell_type": "code",
   "execution_count": 10,
   "metadata": {},
   "outputs": [
    {
     "name": "stdout",
     "output_type": "stream",
     "text": [
      "2019 Ford F-450\n"
     ]
    }
   ],
   "source": [
    "Make = \"Ford \"\n",
    "Model = \"F-450\"\n",
    "Year = \"2019 \"\n",
    "print(Year + Make + Model)"
   ]
  },
  {
   "cell_type": "code",
   "execution_count": 14,
   "metadata": {},
   "outputs": [
    {
     "name": "stdout",
     "output_type": "stream",
     "text": [
      "10.99\n"
     ]
    }
   ],
   "source": [
    "print(float(\"10.99\"))"
   ]
  },
  {
   "cell_type": "code",
   "execution_count": 18,
   "metadata": {},
   "outputs": [
    {
     "name": "stdout",
     "output_type": "stream",
     "text": [
      "['Chevrolet', 'Ford', 'Dodge']\n",
      "[17, 18, 19]\n"
     ]
    }
   ],
   "source": [
    "Makers = [\"Chevrolet\", \"Ford\", \"Dodge\"]\n",
    "Years = [17, 18, 19]\n",
    "\n",
    "print(Makers)\n",
    "print(Years)"
   ]
  },
  {
   "cell_type": "code",
   "execution_count": null,
   "metadata": {},
   "outputs": [],
   "source": [
    "Guns = {'Colt': 'Ruger', 'Winchester': 'Remington', 'Browning'}\n",
    "\n",
    "value = guns['Colt']\n",
    "\n",
    "print(value)"
   ]
  }
 ],
 "metadata": {
  "kernelspec": {
   "display_name": "Python 3",
   "language": "python",
   "name": "python3"
  },
  "language_info": {
   "codemirror_mode": {
    "name": "ipython",
    "version": 3
   },
   "file_extension": ".py",
   "mimetype": "text/x-python",
   "name": "python",
   "nbconvert_exporter": "python",
   "pygments_lexer": "ipython3",
   "version": "3.7.1"
  }
 },
 "nbformat": 4,
 "nbformat_minor": 2
}
