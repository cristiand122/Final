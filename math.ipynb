{
 "cells": [
  {
   "cell_type": "code",
   "execution_count": 18,
   "metadata": {},
   "outputs": [
    {
     "name": "stdout",
     "output_type": "stream",
     "text": [
      "a =  63.4\n",
      "b =  82\n",
      "c =  103.65114567625386\n"
     ]
    }
   ],
   "source": [
    "#code to complete the pythagorian theoeum\n",
    "import math\n",
    "a = 63.4\n",
    "b = 82\n",
    "\n",
    "c_squared = a**2 + b**2\n",
    "\n",
    "c = math.sqrt(c_squared)\n",
    "\n",
    "print('a = ',a)\n",
    "print('b = ',b)\n",
    "print('c = ',c)\n",
    "\n"
   ]
  },
  {
   "cell_type": "code",
   "execution_count": 28,
   "metadata": {},
   "outputs": [
    {
     "name": "stdout",
     "output_type": "stream",
     "text": [
      "a =  3\n",
      "c =  5\n",
      "b =  4.0\n"
     ]
    }
   ],
   "source": [
    "#code to complete the pythagorian theoeum\n",
    "import math\n",
    "a = 3\n",
    "c = 5\n",
    "\n",
    "b_squared = c**2 - a**2\n",
    "\n",
    "b = math.sqrt(b_squared)\n",
    "\n",
    "print('a = ',a)\n",
    "print('c = ',c)\n",
    "print('b = ',b)"
   ]
  },
  {
   "cell_type": "code",
   "execution_count": 29,
   "metadata": {},
   "outputs": [
    {
     "name": "stdout",
     "output_type": "stream",
     "text": [
      "b =  63.4\n",
      "c =  82\n",
      "a =  4.0\n"
     ]
    }
   ],
   "source": [
    "#code to complete the pythagorian theoeum\n",
    "import math\n",
    "b = 63.4\n",
    "c = 82\n",
    "\n",
    "a_squared = c**2 - b**2\n",
    "\n",
    "a = math.sqrt(b_squared)\n",
    "\n",
    "print('b = ',b)\n",
    "print('c = ',c)\n",
    "print('a = ',a)"
   ]
  },
  {
   "cell_type": "code",
   "execution_count": 33,
   "metadata": {},
   "outputs": [
    {
     "name": "stdout",
     "output_type": "stream",
     "text": [
      "x1 =  2\n",
      "y1 =  5\n",
      "x2 =  7\n",
      "y2 =  9\n",
      "distance =  6.4031242374328485\n"
     ]
    }
   ],
   "source": [
    "# the distance formula \n",
    "import math\n",
    "\n",
    "x1 = 2\n",
    "y1 = 5\n",
    "x2 = 7\n",
    "y2 = 9\n",
    "\n",
    "distance = math.sqrt((x2-x1)**2 + (y2-y1)**2)\n",
    "\n",
    "print('x1 = ',x1)\n",
    "print('y1 = ',y1)\n",
    "print('x2 = ',x2)\n",
    "print('y2 = ',y2)\n",
    "print('distance = ',distance)"
   ]
  },
  {
   "cell_type": "code",
   "execution_count": 38,
   "metadata": {},
   "outputs": [
    {
     "ename": "SyntaxError",
     "evalue": "invalid syntax (<ipython-input-38-9c8302a6cb23>, line 14)",
     "output_type": "error",
     "traceback": [
      "\u001b[1;36m  File \u001b[1;32m\"<ipython-input-38-9c8302a6cb23>\"\u001b[1;36m, line \u001b[1;32m14\u001b[0m\n\u001b[1;33m    x2 = (-b-(math.sqrt(disc))/(2*a)\u001b[0m\n\u001b[1;37m     ^\u001b[0m\n\u001b[1;31mSyntaxError\u001b[0m\u001b[1;31m:\u001b[0m invalid syntax\n"
     ]
    }
   ],
   "source": [
    "# quadratic formula \n",
    "import math\n",
    "\n",
    "a = 3\n",
    "b = 5\n",
    "c = 2\n",
    "\n",
    "disc = b**2 - 4*a*c\n",
    "\n",
    "if disc < 0:\n",
    "    print(\"No Solution\")\n",
    "else:\n",
    "    x1 = (-b+(math.sqrt(disc))/(2*a)\n",
    "    x2 = (-b-(math.sqrt(disc))/(2*a)\n",
    "    print('x = ', x1)\n",
    "    print('x = ', x2)"
   ]
  },
  {
   "cell_type": "code",
   "execution_count": null,
   "metadata": {},
   "outputs": [],
   "source": []
  }
 ],
 "metadata": {
  "kernelspec": {
   "display_name": "Python 3",
   "language": "python",
   "name": "python3"
  },
  "language_info": {
   "codemirror_mode": {
    "name": "ipython",
    "version": 3
   },
   "file_extension": ".py",
   "mimetype": "text/x-python",
   "name": "python",
   "nbconvert_exporter": "python",
   "pygments_lexer": "ipython3",
   "version": "3.7.1"
  }
 },
 "nbformat": 4,
 "nbformat_minor": 2
}
