{
 "cells": [
  {
   "cell_type": "code",
   "execution_count": null,
   "metadata": {},
   "outputs": [],
   "source": [
    "import json\n",
    "import turtle\n",
    "import urllib.request\n",
    "\n",
    "\n",
    "url = 'http://api.open-notify.org/astros.json'\n",
    "response = urllib.request.urlopen(url)\n",
    "result = json.loads(response.read())\n",
    "print('People in Space: ', result['number'])\n",
    "people = result['people']\n",
    "for p in people:\n",
    "  print(p['name'])\n",
    "url = 'http://api.open-notify.org/iss-now.json'\n",
    "response = urllib.request.urlopen(url)\n",
    "result = json.loads(response.read())\n",
    "print(result)"
   ]
  }
 ],
 "metadata": {
  "kernelspec": {
   "display_name": "Python 3",
   "language": "python",
   "name": "python3"
  },
  "language_info": {
   "codemirror_mode": {
    "name": "ipython",
    "version": 3
   },
   "file_extension": ".py",
   "mimetype": "text/x-python",
   "name": "python",
   "nbconvert_exporter": "python",
   "pygments_lexer": "ipython3",
   "version": "3.7.1"
  }
 },
 "nbformat": 4,
 "nbformat_minor": 2
}
