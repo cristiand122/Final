{
 "cells": [
  {
   "cell_type": "code",
   "execution_count": 4,
   "metadata": {},
   "outputs": [
    {
     "ename": "IndentationError",
     "evalue": "expected an indented block (<ipython-input-4-c1c623350ef9>, line 2)",
     "output_type": "error",
     "traceback": [
      "\u001b[1;36m  File \u001b[1;32m\"<ipython-input-4-c1c623350ef9>\"\u001b[1;36m, line \u001b[1;32m2\u001b[0m\n\u001b[1;33m    position = random.randrange(len(word))\u001b[0m\n\u001b[1;37m           ^\u001b[0m\n\u001b[1;31mIndentationError\u001b[0m\u001b[1;31m:\u001b[0m expected an indented block\n"
     ]
    }
   ],
   "source": [
    "while word:\n",
    "position = random.randrange(len(word))\n",
    "  jumble += word[position]\n",
    "word = word[:position] + word[(position + 1):]\n",
    "  \n",
    "# sets score to zero\n",
    "score = 0\n",
    " \n",
    "# start the game\n",
    "print \\\n",
    "\"Welcome to Word Jumble!\n",
    " \n",
    "Unscramble the letters to make a word.\n",
    "Enter a guess, an X to give up, or type ? and press enter for a hint.\n",
    "(Press the enter key at the prompt to quit.)\n",
    " \n",
    "Try to get the lowest score possible. For each hint, you gain a point.\n",
    " See if you can win with no points!\"\n",
    "\n",
    "print \"The jumble is:\", jumble\n",
    "\n",
    "guess = raw_input(\"\\nYour guess: \")\n",
    "guess = guess.lower()\n",
    "lst = range(len(jumble))\n",
    "hint_str = '_'*len(jumble)\n",
    "while True:\n",
    " \n",
    "     \n",
    "if guess == correct:\n",
    "print \"That's it! You guessed it!\\n Your score is\", score\n",
    "raw_input(\"\\n\\nPress the enter key to exit.\")\n",
    "break\n",
    "guess = raw_input(\"Guess or '?' or 'X': \").lower()\n",
    "\n",
    " elif guess == '?':\n",
    "       i = random.choice(lst)\n",
    "       print correct[i], \"is the\", i+1, \"letter.\"\n",
    "       score += 1\n",
    "       guess = raw_input(\"Guess or '?' or 'X': \").lower()\n",
    "       \n",
    "       \n",
    "elif guess == 'x':\n",
    "       print \"Sorry you gave up!\"\n",
    "    \n",
    "else:\n",
    "       print \"Sorry, thats not it. Try again.\"\n",
    "       guess = raw_input(\"Guess or '?' or 'X': \").lower()"
   ]
  },
  {
   "cell_type": "code",
   "execution_count": null,
   "metadata": {},
   "outputs": [],
   "source": []
  }
 ],
 "metadata": {
  "kernelspec": {
   "display_name": "Python 3",
   "language": "python",
   "name": "python3"
  },
  "language_info": {
   "codemirror_mode": {
    "name": "ipython",
    "version": 3
   },
   "file_extension": ".py",
   "mimetype": "text/x-python",
   "name": "python",
   "nbconvert_exporter": "python",
   "pygments_lexer": "ipython3",
   "version": "3.7.1"
  }
 },
 "nbformat": 4,
 "nbformat_minor": 2
}
