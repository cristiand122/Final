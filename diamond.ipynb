{
 "cells": [
  {
   "cell_type": "code",
   "execution_count": 1,
   "metadata": {},
   "outputs": [],
   "source": [
    "import turtle"
   ]
  },
  {
   "cell_type": "code",
   "execution_count": 4,
   "metadata": {},
   "outputs": [],
   "source": [
    "def draw_diamond(some_turtle):\n",
    "    some_turtle.left(30)\n",
    "    some_turtle.foward(50)\n",
    "    some_turtle.right(60)\n",
    "    some_turtle.foward(50)\n",
    "    some_turtle.right(120)\n",
    "    some_turtle.foward(50)\n",
    "    some_turtle.right(60)\n",
    "    some_turtle.foward(50)\n",
    "    some_turtle.right(150)\n",
    "\n",
    "def draw_art():\n",
    "    # Instantiate a screen object, window.Then customize window\n",
    "    window = turtle.screen()\n",
    "    window.bgcolor(\"white\") # set background color\n",
    "    \n",
    "    # Instantiate a turtle object, bob. Then customize bob.\n",
    "    bob=turtle.Turtle()\n",
    "    bob.shape(\"turtle\") #see turtle doc\n",
    "    bob.color(\"green\") #see turtle doc\n",
    "    brad.speed(0) # 1 (slowest) to 10 (fastest). 0 means no animation\n",
    "\n",
    "    # draw a circle with 36 diamonds. We rotate each diamond by 10 degrees at a time\n",
    "    for i in range (0, 36):\n",
    "        draw_diamond(bob)\n",
    "        bob.right(10)\n",
    "    \n",
    "    bob.right(90)\n",
    "    bob.foward(200)\n",
    "\n",
    "    window.exitonclick() "
   ]
  },
  {
   "cell_type": "code",
   "execution_count": null,
   "metadata": {},
   "outputs": [],
   "source": []
  },
  {
   "cell_type": "code",
   "execution_count": null,
   "metadata": {},
   "outputs": [],
   "source": []
  },
  {
   "cell_type": "code",
   "execution_count": null,
   "metadata": {},
   "outputs": [],
   "source": []
  }
 ],
 "metadata": {
  "kernelspec": {
   "display_name": "Python 3",
   "language": "python",
   "name": "python3"
  },
  "language_info": {
   "codemirror_mode": {
    "name": "ipython",
    "version": 3
   },
   "file_extension": ".py",
   "mimetype": "text/x-python",
   "name": "python",
   "nbconvert_exporter": "python",
   "pygments_lexer": "ipython3",
   "version": "3.7.1"
  }
 },
 "nbformat": 4,
 "nbformat_minor": 2
}
